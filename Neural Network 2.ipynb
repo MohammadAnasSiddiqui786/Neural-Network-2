{
 "cells": [
  {
   "cell_type": "code",
   "execution_count": 1,
   "metadata": {
    "ExecuteTime": {
     "end_time": "2021-12-28T21:21:06.041996Z",
     "start_time": "2021-12-28T21:20:56.701039Z"
    }
   },
   "outputs": [],
   "source": [
    "import pandas as pd\n",
    "import numpy as np\n",
    "import keras\n",
    "from sklearn.preprocessing import StandardScaler\n",
    "from keras.models import Sequential\n",
    "from keras.layers import Dense\n",
    "import tensorflow as tf \n",
    "from tensorflow.keras.models import load_model \n",
    "from sklearn.preprocessing import StandardScaler\n",
    "from sklearn.model_selection import train_test_split"
   ]
  },
  {
   "cell_type": "code",
   "execution_count": 2,
   "metadata": {
    "ExecuteTime": {
     "end_time": "2021-12-28T21:21:06.088728Z",
     "start_time": "2021-12-28T21:21:06.065459Z"
    }
   },
   "outputs": [],
   "source": [
    "from sklearn.model_selection import GridSearchCV, KFold\n",
    "from keras.wrappers.scikit_learn import KerasClassifier\n",
    "from tensorflow.keras.optimizers import Adam"
   ]
  },
  {
   "cell_type": "code",
   "execution_count": 3,
   "metadata": {
    "ExecuteTime": {
     "end_time": "2021-12-28T21:21:06.652184Z",
     "start_time": "2021-12-28T21:21:06.108709Z"
    }
   },
   "outputs": [
    {
     "data": {
      "text/html": [
       "<div>\n",
       "<style scoped>\n",
       "    .dataframe tbody tr th:only-of-type {\n",
       "        vertical-align: middle;\n",
       "    }\n",
       "\n",
       "    .dataframe tbody tr th {\n",
       "        vertical-align: top;\n",
       "    }\n",
       "\n",
       "    .dataframe thead th {\n",
       "        text-align: right;\n",
       "    }\n",
       "</style>\n",
       "<table border=\"1\" class=\"dataframe\">\n",
       "  <thead>\n",
       "    <tr style=\"text-align: right;\">\n",
       "      <th></th>\n",
       "      <th>AT</th>\n",
       "      <th>AP</th>\n",
       "      <th>AH</th>\n",
       "      <th>AFDP</th>\n",
       "      <th>GTEP</th>\n",
       "      <th>TIT</th>\n",
       "      <th>TAT</th>\n",
       "      <th>TEY</th>\n",
       "      <th>CDP</th>\n",
       "      <th>CO</th>\n",
       "      <th>NOX</th>\n",
       "    </tr>\n",
       "  </thead>\n",
       "  <tbody>\n",
       "    <tr>\n",
       "      <th>0</th>\n",
       "      <td>6.8594</td>\n",
       "      <td>1007.9</td>\n",
       "      <td>96.799</td>\n",
       "      <td>3.5000</td>\n",
       "      <td>19.663</td>\n",
       "      <td>1059.2</td>\n",
       "      <td>550.00</td>\n",
       "      <td>114.70</td>\n",
       "      <td>10.605</td>\n",
       "      <td>3.1547</td>\n",
       "      <td>82.722</td>\n",
       "    </tr>\n",
       "    <tr>\n",
       "      <th>1</th>\n",
       "      <td>6.7850</td>\n",
       "      <td>1008.4</td>\n",
       "      <td>97.118</td>\n",
       "      <td>3.4998</td>\n",
       "      <td>19.728</td>\n",
       "      <td>1059.3</td>\n",
       "      <td>550.00</td>\n",
       "      <td>114.72</td>\n",
       "      <td>10.598</td>\n",
       "      <td>3.2363</td>\n",
       "      <td>82.776</td>\n",
       "    </tr>\n",
       "    <tr>\n",
       "      <th>2</th>\n",
       "      <td>6.8977</td>\n",
       "      <td>1008.8</td>\n",
       "      <td>95.939</td>\n",
       "      <td>3.4824</td>\n",
       "      <td>19.779</td>\n",
       "      <td>1059.4</td>\n",
       "      <td>549.87</td>\n",
       "      <td>114.71</td>\n",
       "      <td>10.601</td>\n",
       "      <td>3.2012</td>\n",
       "      <td>82.468</td>\n",
       "    </tr>\n",
       "    <tr>\n",
       "      <th>3</th>\n",
       "      <td>7.0569</td>\n",
       "      <td>1009.2</td>\n",
       "      <td>95.249</td>\n",
       "      <td>3.4805</td>\n",
       "      <td>19.792</td>\n",
       "      <td>1059.6</td>\n",
       "      <td>549.99</td>\n",
       "      <td>114.72</td>\n",
       "      <td>10.606</td>\n",
       "      <td>3.1923</td>\n",
       "      <td>82.670</td>\n",
       "    </tr>\n",
       "    <tr>\n",
       "      <th>4</th>\n",
       "      <td>7.3978</td>\n",
       "      <td>1009.7</td>\n",
       "      <td>95.150</td>\n",
       "      <td>3.4976</td>\n",
       "      <td>19.765</td>\n",
       "      <td>1059.7</td>\n",
       "      <td>549.98</td>\n",
       "      <td>114.72</td>\n",
       "      <td>10.612</td>\n",
       "      <td>3.2484</td>\n",
       "      <td>82.311</td>\n",
       "    </tr>\n",
       "    <tr>\n",
       "      <th>...</th>\n",
       "      <td>...</td>\n",
       "      <td>...</td>\n",
       "      <td>...</td>\n",
       "      <td>...</td>\n",
       "      <td>...</td>\n",
       "      <td>...</td>\n",
       "      <td>...</td>\n",
       "      <td>...</td>\n",
       "      <td>...</td>\n",
       "      <td>...</td>\n",
       "      <td>...</td>\n",
       "    </tr>\n",
       "    <tr>\n",
       "      <th>15034</th>\n",
       "      <td>9.0301</td>\n",
       "      <td>1005.6</td>\n",
       "      <td>98.460</td>\n",
       "      <td>3.5421</td>\n",
       "      <td>19.164</td>\n",
       "      <td>1049.7</td>\n",
       "      <td>546.21</td>\n",
       "      <td>111.61</td>\n",
       "      <td>10.400</td>\n",
       "      <td>4.5186</td>\n",
       "      <td>79.559</td>\n",
       "    </tr>\n",
       "    <tr>\n",
       "      <th>15035</th>\n",
       "      <td>7.8879</td>\n",
       "      <td>1005.9</td>\n",
       "      <td>99.093</td>\n",
       "      <td>3.5059</td>\n",
       "      <td>19.414</td>\n",
       "      <td>1046.3</td>\n",
       "      <td>543.22</td>\n",
       "      <td>111.78</td>\n",
       "      <td>10.433</td>\n",
       "      <td>4.8470</td>\n",
       "      <td>79.917</td>\n",
       "    </tr>\n",
       "    <tr>\n",
       "      <th>15036</th>\n",
       "      <td>7.2647</td>\n",
       "      <td>1006.3</td>\n",
       "      <td>99.496</td>\n",
       "      <td>3.4770</td>\n",
       "      <td>19.530</td>\n",
       "      <td>1037.7</td>\n",
       "      <td>537.32</td>\n",
       "      <td>110.19</td>\n",
       "      <td>10.483</td>\n",
       "      <td>7.9632</td>\n",
       "      <td>90.912</td>\n",
       "    </tr>\n",
       "    <tr>\n",
       "      <th>15037</th>\n",
       "      <td>7.0060</td>\n",
       "      <td>1006.8</td>\n",
       "      <td>99.008</td>\n",
       "      <td>3.4486</td>\n",
       "      <td>19.377</td>\n",
       "      <td>1043.2</td>\n",
       "      <td>541.24</td>\n",
       "      <td>110.74</td>\n",
       "      <td>10.533</td>\n",
       "      <td>6.2494</td>\n",
       "      <td>93.227</td>\n",
       "    </tr>\n",
       "    <tr>\n",
       "      <th>15038</th>\n",
       "      <td>6.9279</td>\n",
       "      <td>1007.2</td>\n",
       "      <td>97.533</td>\n",
       "      <td>3.4275</td>\n",
       "      <td>19.306</td>\n",
       "      <td>1049.9</td>\n",
       "      <td>545.85</td>\n",
       "      <td>111.58</td>\n",
       "      <td>10.583</td>\n",
       "      <td>4.9816</td>\n",
       "      <td>92.498</td>\n",
       "    </tr>\n",
       "  </tbody>\n",
       "</table>\n",
       "<p>15039 rows × 11 columns</p>\n",
       "</div>"
      ],
      "text/plain": [
       "           AT      AP      AH    AFDP    GTEP     TIT     TAT     TEY     CDP  \\\n",
       "0      6.8594  1007.9  96.799  3.5000  19.663  1059.2  550.00  114.70  10.605   \n",
       "1      6.7850  1008.4  97.118  3.4998  19.728  1059.3  550.00  114.72  10.598   \n",
       "2      6.8977  1008.8  95.939  3.4824  19.779  1059.4  549.87  114.71  10.601   \n",
       "3      7.0569  1009.2  95.249  3.4805  19.792  1059.6  549.99  114.72  10.606   \n",
       "4      7.3978  1009.7  95.150  3.4976  19.765  1059.7  549.98  114.72  10.612   \n",
       "...       ...     ...     ...     ...     ...     ...     ...     ...     ...   \n",
       "15034  9.0301  1005.6  98.460  3.5421  19.164  1049.7  546.21  111.61  10.400   \n",
       "15035  7.8879  1005.9  99.093  3.5059  19.414  1046.3  543.22  111.78  10.433   \n",
       "15036  7.2647  1006.3  99.496  3.4770  19.530  1037.7  537.32  110.19  10.483   \n",
       "15037  7.0060  1006.8  99.008  3.4486  19.377  1043.2  541.24  110.74  10.533   \n",
       "15038  6.9279  1007.2  97.533  3.4275  19.306  1049.9  545.85  111.58  10.583   \n",
       "\n",
       "           CO     NOX  \n",
       "0      3.1547  82.722  \n",
       "1      3.2363  82.776  \n",
       "2      3.2012  82.468  \n",
       "3      3.1923  82.670  \n",
       "4      3.2484  82.311  \n",
       "...       ...     ...  \n",
       "15034  4.5186  79.559  \n",
       "15035  4.8470  79.917  \n",
       "15036  7.9632  90.912  \n",
       "15037  6.2494  93.227  \n",
       "15038  4.9816  92.498  \n",
       "\n",
       "[15039 rows x 11 columns]"
      ]
     },
     "execution_count": 3,
     "metadata": {},
     "output_type": "execute_result"
    }
   ],
   "source": [
    "data = pd.read_csv(\"gas_turbines.csv\")\n",
    "data"
   ]
  },
  {
   "cell_type": "code",
   "execution_count": 4,
   "metadata": {
    "ExecuteTime": {
     "end_time": "2021-12-28T21:21:06.747167Z",
     "start_time": "2021-12-28T21:21:06.689747Z"
    }
   },
   "outputs": [
    {
     "data": {
      "text/html": [
       "<div>\n",
       "<style scoped>\n",
       "    .dataframe tbody tr th:only-of-type {\n",
       "        vertical-align: middle;\n",
       "    }\n",
       "\n",
       "    .dataframe tbody tr th {\n",
       "        vertical-align: top;\n",
       "    }\n",
       "\n",
       "    .dataframe thead th {\n",
       "        text-align: right;\n",
       "    }\n",
       "</style>\n",
       "<table border=\"1\" class=\"dataframe\">\n",
       "  <thead>\n",
       "    <tr style=\"text-align: right;\">\n",
       "      <th></th>\n",
       "      <th>AT</th>\n",
       "      <th>AP</th>\n",
       "      <th>AH</th>\n",
       "      <th>AFDP</th>\n",
       "      <th>GTEP</th>\n",
       "      <th>TIT</th>\n",
       "      <th>TAT</th>\n",
       "      <th>TEY</th>\n",
       "      <th>CDP</th>\n",
       "      <th>CO</th>\n",
       "      <th>NOX</th>\n",
       "    </tr>\n",
       "  </thead>\n",
       "  <tbody>\n",
       "    <tr>\n",
       "      <th>0</th>\n",
       "      <td>6.8594</td>\n",
       "      <td>1007.9</td>\n",
       "      <td>96.799</td>\n",
       "      <td>3.5000</td>\n",
       "      <td>19.663</td>\n",
       "      <td>1059.2</td>\n",
       "      <td>550.00</td>\n",
       "      <td>114.70</td>\n",
       "      <td>10.605</td>\n",
       "      <td>3.1547</td>\n",
       "      <td>82.722</td>\n",
       "    </tr>\n",
       "    <tr>\n",
       "      <th>1</th>\n",
       "      <td>6.7850</td>\n",
       "      <td>1008.4</td>\n",
       "      <td>97.118</td>\n",
       "      <td>3.4998</td>\n",
       "      <td>19.728</td>\n",
       "      <td>1059.3</td>\n",
       "      <td>550.00</td>\n",
       "      <td>114.72</td>\n",
       "      <td>10.598</td>\n",
       "      <td>3.2363</td>\n",
       "      <td>82.776</td>\n",
       "    </tr>\n",
       "    <tr>\n",
       "      <th>2</th>\n",
       "      <td>6.8977</td>\n",
       "      <td>1008.8</td>\n",
       "      <td>95.939</td>\n",
       "      <td>3.4824</td>\n",
       "      <td>19.779</td>\n",
       "      <td>1059.4</td>\n",
       "      <td>549.87</td>\n",
       "      <td>114.71</td>\n",
       "      <td>10.601</td>\n",
       "      <td>3.2012</td>\n",
       "      <td>82.468</td>\n",
       "    </tr>\n",
       "    <tr>\n",
       "      <th>3</th>\n",
       "      <td>7.0569</td>\n",
       "      <td>1009.2</td>\n",
       "      <td>95.249</td>\n",
       "      <td>3.4805</td>\n",
       "      <td>19.792</td>\n",
       "      <td>1059.6</td>\n",
       "      <td>549.99</td>\n",
       "      <td>114.72</td>\n",
       "      <td>10.606</td>\n",
       "      <td>3.1923</td>\n",
       "      <td>82.670</td>\n",
       "    </tr>\n",
       "    <tr>\n",
       "      <th>4</th>\n",
       "      <td>7.3978</td>\n",
       "      <td>1009.7</td>\n",
       "      <td>95.150</td>\n",
       "      <td>3.4976</td>\n",
       "      <td>19.765</td>\n",
       "      <td>1059.7</td>\n",
       "      <td>549.98</td>\n",
       "      <td>114.72</td>\n",
       "      <td>10.612</td>\n",
       "      <td>3.2484</td>\n",
       "      <td>82.311</td>\n",
       "    </tr>\n",
       "    <tr>\n",
       "      <th>5</th>\n",
       "      <td>7.6998</td>\n",
       "      <td>1010.7</td>\n",
       "      <td>92.708</td>\n",
       "      <td>3.5236</td>\n",
       "      <td>19.683</td>\n",
       "      <td>1059.8</td>\n",
       "      <td>549.97</td>\n",
       "      <td>114.72</td>\n",
       "      <td>10.626</td>\n",
       "      <td>3.4467</td>\n",
       "      <td>82.409</td>\n",
       "    </tr>\n",
       "    <tr>\n",
       "      <th>6</th>\n",
       "      <td>7.7901</td>\n",
       "      <td>1011.6</td>\n",
       "      <td>91.983</td>\n",
       "      <td>3.5298</td>\n",
       "      <td>19.659</td>\n",
       "      <td>1060.0</td>\n",
       "      <td>549.87</td>\n",
       "      <td>114.71</td>\n",
       "      <td>10.644</td>\n",
       "      <td>3.4874</td>\n",
       "      <td>82.440</td>\n",
       "    </tr>\n",
       "    <tr>\n",
       "      <th>7</th>\n",
       "      <td>7.7139</td>\n",
       "      <td>1012.7</td>\n",
       "      <td>91.348</td>\n",
       "      <td>3.5088</td>\n",
       "      <td>19.673</td>\n",
       "      <td>1059.8</td>\n",
       "      <td>549.92</td>\n",
       "      <td>114.71</td>\n",
       "      <td>10.656</td>\n",
       "      <td>3.6043</td>\n",
       "      <td>83.010</td>\n",
       "    </tr>\n",
       "    <tr>\n",
       "      <th>8</th>\n",
       "      <td>7.7975</td>\n",
       "      <td>1013.8</td>\n",
       "      <td>90.196</td>\n",
       "      <td>3.5141</td>\n",
       "      <td>19.634</td>\n",
       "      <td>1060.1</td>\n",
       "      <td>550.09</td>\n",
       "      <td>114.72</td>\n",
       "      <td>10.644</td>\n",
       "      <td>3.3943</td>\n",
       "      <td>82.284</td>\n",
       "    </tr>\n",
       "    <tr>\n",
       "      <th>9</th>\n",
       "      <td>8.0820</td>\n",
       "      <td>1015.0</td>\n",
       "      <td>88.597</td>\n",
       "      <td>4.0612</td>\n",
       "      <td>23.406</td>\n",
       "      <td>1083.0</td>\n",
       "      <td>550.21</td>\n",
       "      <td>131.70</td>\n",
       "      <td>11.679</td>\n",
       "      <td>1.9081</td>\n",
       "      <td>82.782</td>\n",
       "    </tr>\n",
       "  </tbody>\n",
       "</table>\n",
       "</div>"
      ],
      "text/plain": [
       "       AT      AP      AH    AFDP    GTEP     TIT     TAT     TEY     CDP  \\\n",
       "0  6.8594  1007.9  96.799  3.5000  19.663  1059.2  550.00  114.70  10.605   \n",
       "1  6.7850  1008.4  97.118  3.4998  19.728  1059.3  550.00  114.72  10.598   \n",
       "2  6.8977  1008.8  95.939  3.4824  19.779  1059.4  549.87  114.71  10.601   \n",
       "3  7.0569  1009.2  95.249  3.4805  19.792  1059.6  549.99  114.72  10.606   \n",
       "4  7.3978  1009.7  95.150  3.4976  19.765  1059.7  549.98  114.72  10.612   \n",
       "5  7.6998  1010.7  92.708  3.5236  19.683  1059.8  549.97  114.72  10.626   \n",
       "6  7.7901  1011.6  91.983  3.5298  19.659  1060.0  549.87  114.71  10.644   \n",
       "7  7.7139  1012.7  91.348  3.5088  19.673  1059.8  549.92  114.71  10.656   \n",
       "8  7.7975  1013.8  90.196  3.5141  19.634  1060.1  550.09  114.72  10.644   \n",
       "9  8.0820  1015.0  88.597  4.0612  23.406  1083.0  550.21  131.70  11.679   \n",
       "\n",
       "       CO     NOX  \n",
       "0  3.1547  82.722  \n",
       "1  3.2363  82.776  \n",
       "2  3.2012  82.468  \n",
       "3  3.1923  82.670  \n",
       "4  3.2484  82.311  \n",
       "5  3.4467  82.409  \n",
       "6  3.4874  82.440  \n",
       "7  3.6043  83.010  \n",
       "8  3.3943  82.284  \n",
       "9  1.9081  82.782  "
      ]
     },
     "execution_count": 4,
     "metadata": {},
     "output_type": "execute_result"
    }
   ],
   "source": [
    "data.head(10)"
   ]
  },
  {
   "cell_type": "code",
   "execution_count": 5,
   "metadata": {
    "ExecuteTime": {
     "end_time": "2021-12-28T21:21:07.183922Z",
     "start_time": "2021-12-28T21:21:06.789586Z"
    }
   },
   "outputs": [],
   "source": [
    "data['tey']=1\n",
    "data.loc[data['TEY'] > 118,'tey'] = 2\n",
    "data.drop(['TEY'], axis=1,inplace = True)"
   ]
  },
  {
   "cell_type": "code",
   "execution_count": 6,
   "metadata": {
    "ExecuteTime": {
     "end_time": "2021-12-28T21:21:07.232018Z",
     "start_time": "2021-12-28T21:21:07.218574Z"
    }
   },
   "outputs": [],
   "source": [
    "x =np.array(data.iloc[:,0:10])\n",
    "y = np.array(data.iloc[:,10])"
   ]
  },
  {
   "cell_type": "code",
   "execution_count": 7,
   "metadata": {
    "ExecuteTime": {
     "end_time": "2021-12-28T21:21:07.387631Z",
     "start_time": "2021-12-28T21:21:07.268018Z"
    }
   },
   "outputs": [
    {
     "data": {
      "text/plain": [
       "array([1, 1, 1, ..., 1, 1, 1], dtype=int64)"
      ]
     },
     "execution_count": 7,
     "metadata": {},
     "output_type": "execute_result"
    }
   ],
   "source": [
    "y"
   ]
  },
  {
   "cell_type": "code",
   "execution_count": 8,
   "metadata": {
    "ExecuteTime": {
     "end_time": "2021-12-28T21:21:07.526199Z",
     "start_time": "2021-12-28T21:21:07.424992Z"
    }
   },
   "outputs": [
    {
     "data": {
      "text/plain": [
       "array([[   6.8594, 1007.9   ,   96.799 , ...,   10.605 ,    3.1547,\n",
       "          82.722 ],\n",
       "       [   6.785 , 1008.4   ,   97.118 , ...,   10.598 ,    3.2363,\n",
       "          82.776 ],\n",
       "       [   6.8977, 1008.8   ,   95.939 , ...,   10.601 ,    3.2012,\n",
       "          82.468 ],\n",
       "       ...,\n",
       "       [   7.2647, 1006.3   ,   99.496 , ...,   10.483 ,    7.9632,\n",
       "          90.912 ],\n",
       "       [   7.006 , 1006.8   ,   99.008 , ...,   10.533 ,    6.2494,\n",
       "          93.227 ],\n",
       "       [   6.9279, 1007.2   ,   97.533 , ...,   10.583 ,    4.9816,\n",
       "          92.498 ]])"
      ]
     },
     "execution_count": 8,
     "metadata": {},
     "output_type": "execute_result"
    }
   ],
   "source": [
    "x"
   ]
  },
  {
   "cell_type": "code",
   "execution_count": 9,
   "metadata": {
    "ExecuteTime": {
     "end_time": "2021-12-28T21:21:07.715000Z",
     "start_time": "2021-12-28T21:21:07.577060Z"
    }
   },
   "outputs": [],
   "source": [
    "def norm_fun(i):\n",
    "    x = ( i- i.min())/(i.max()-i.min())\n",
    "    return (x)"
   ]
  },
  {
   "cell_type": "code",
   "execution_count": 10,
   "metadata": {
    "ExecuteTime": {
     "end_time": "2021-12-28T21:21:07.948526Z",
     "start_time": "2021-12-28T21:21:07.749255Z"
    }
   },
   "outputs": [],
   "source": [
    "x_norm = norm_fun(x)"
   ]
  },
  {
   "cell_type": "code",
   "execution_count": 11,
   "metadata": {
    "ExecuteTime": {
     "end_time": "2021-12-28T21:21:08.166791Z",
     "start_time": "2021-12-28T21:21:07.984586Z"
    }
   },
   "outputs": [
    {
     "data": {
      "text/plain": [
       "array([[0.00623094, 0.9156068 , 0.08793482, ..., 0.00963355, 0.00286547,\n",
       "        0.07514684],\n",
       "       [0.00616335, 0.91606102, 0.08822461, ..., 0.00962719, 0.0029396 ,\n",
       "        0.0751959 ],\n",
       "       [0.00626573, 0.91642439, 0.08715357, ..., 0.00962992, 0.00290772,\n",
       "        0.0749161 ],\n",
       "       ...,\n",
       "       [0.00659912, 0.91415331, 0.09038485, ..., 0.00952273, 0.00723366,\n",
       "        0.08258689],\n",
       "       [0.00636411, 0.91460753, 0.08994154, ..., 0.00956815, 0.00567679,\n",
       "        0.0846899 ],\n",
       "       [0.00629316, 0.9149709 , 0.08860161, ..., 0.00961357, 0.00452509,\n",
       "        0.08402766]])"
      ]
     },
     "execution_count": 11,
     "metadata": {},
     "output_type": "execute_result"
    }
   ],
   "source": [
    "x_norm"
   ]
  },
  {
   "cell_type": "code",
   "execution_count": 12,
   "metadata": {
    "ExecuteTime": {
     "end_time": "2021-12-28T21:21:08.340202Z",
     "start_time": "2021-12-28T21:21:08.207276Z"
    }
   },
   "outputs": [],
   "source": [
    "x_train,x_test, y_train, y_test = train_test_split(x,y, test_size = 0.2)"
   ]
  },
  {
   "cell_type": "code",
   "execution_count": 13,
   "metadata": {
    "ExecuteTime": {
     "end_time": "2021-12-28T21:21:08.560204Z",
     "start_time": "2021-12-28T21:21:08.373876Z"
    }
   },
   "outputs": [
    {
     "data": {
      "text/plain": [
       "(array([[1.2551e+01, 1.0143e+03, 1.0013e+02, ..., 1.1839e+01, 1.6860e+00,\n",
       "         7.1081e+01],\n",
       "        [1.6510e+01, 1.0268e+03, 6.2651e+01, ..., 1.1979e+01, 2.7768e+00,\n",
       "         8.1202e+01],\n",
       "        [2.0720e+01, 9.9978e+02, 6.2787e+01, ..., 1.0009e+01, 4.8150e+00,\n",
       "         7.1635e+01],\n",
       "        ...,\n",
       "        [2.7382e+01, 1.0161e+03, 6.1555e+01, ..., 1.2337e+01, 1.3872e+00,\n",
       "         6.6656e+01],\n",
       "        [1.6752e+01, 1.0064e+03, 8.7179e+01, ..., 1.3531e+01, 9.1007e-01,\n",
       "         6.4670e+01],\n",
       "        [2.5642e+01, 1.0104e+03, 8.4984e+01, ..., 1.2242e+01, 2.6823e-01,\n",
       "         6.0775e+01]]),\n",
       " array([[3.5892e+00, 1.0182e+03, 8.3867e+01, ..., 1.1893e+01, 7.9996e-01,\n",
       "         8.4193e+01],\n",
       "        [2.3293e+01, 1.0119e+03, 7.8369e+01, ..., 1.1582e+01, 2.2127e+00,\n",
       "         5.9902e+01],\n",
       "        [1.4427e+01, 1.0166e+03, 8.5573e+01, ..., 1.3294e+01, 2.9631e+00,\n",
       "         7.4443e+01],\n",
       "        ...,\n",
       "        [1.3174e+01, 1.0058e+03, 8.5264e+01, ..., 1.1787e+01, 1.7314e+00,\n",
       "         7.3966e+01],\n",
       "        [2.6255e+01, 1.0039e+03, 8.1940e+01, ..., 1.3190e+01, 7.0004e-01,\n",
       "         5.3752e+01],\n",
       "        [2.6282e+01, 1.0103e+03, 8.6556e+01, ..., 1.3206e+01, 6.9980e-01,\n",
       "         5.3039e+01]]),\n",
       " array([2, 2, 1, ..., 2, 2, 2], dtype=int64),\n",
       " array([2, 2, 2, ..., 2, 2, 2], dtype=int64))"
      ]
     },
     "execution_count": 13,
     "metadata": {},
     "output_type": "execute_result"
    }
   ],
   "source": [
    "x_train,x_test, y_train, y_test"
   ]
  },
  {
   "cell_type": "code",
   "execution_count": 14,
   "metadata": {
    "ExecuteTime": {
     "end_time": "2021-12-28T21:21:08.903914Z",
     "start_time": "2021-12-28T21:21:08.592919Z"
    }
   },
   "outputs": [],
   "source": [
    "model = Sequential()\n",
    "model.add(Dense(10, input_dim=10,  activation='relu'))\n",
    "model.add(Dense(8,  activation='relu'))\n",
    "model.add(Dense(1,  activation='sigmoid'))"
   ]
  },
  {
   "cell_type": "code",
   "execution_count": 15,
   "metadata": {
    "ExecuteTime": {
     "end_time": "2021-12-28T21:21:08.981755Z",
     "start_time": "2021-12-28T21:21:08.956006Z"
    }
   },
   "outputs": [],
   "source": [
    "model.compile(loss='binary_crossentropy', optimizer='adam', metrics=['accuracy'])"
   ]
  },
  {
   "cell_type": "code",
   "execution_count": 16,
   "metadata": {
    "ExecuteTime": {
     "end_time": "2021-12-28T21:23:09.932491Z",
     "start_time": "2021-12-28T21:21:09.017471Z"
    }
   },
   "outputs": [
    {
     "name": "stdout",
     "output_type": "stream",
     "text": [
      "Epoch 1/50\n",
      "1204/1204 [==============================] - 5s 2ms/step - loss: -284175.4375 - accuracy: 0.2085\n",
      "Epoch 2/50\n",
      "1204/1204 [==============================] - 3s 2ms/step - loss: -3627674.0000 - accuracy: 0.2085\n",
      "Epoch 3/50\n",
      "1204/1204 [==============================] - 2s 2ms/step - loss: -13121808.0000 - accuracy: 0.2085\n",
      "Epoch 4/50\n",
      "1204/1204 [==============================] - 3s 2ms/step - loss: -30122198.0000 - accuracy: 0.2085\n",
      "Epoch 5/50\n",
      "1204/1204 [==============================] - 3s 2ms/step - loss: -55607916.0000 - accuracy: 0.2085\n",
      "Epoch 6/50\n",
      "1204/1204 [==============================] - 3s 2ms/step - loss: -90541072.0000 - accuracy: 0.2085\n",
      "Epoch 7/50\n",
      "1204/1204 [==============================] - 2s 2ms/step - loss: -135844928.0000 - accuracy: 0.2085\n",
      "Epoch 8/50\n",
      "1204/1204 [==============================] - 3s 2ms/step - loss: -192606272.0000 - accuracy: 0.2085\n",
      "Epoch 9/50\n",
      "1204/1204 [==============================] - 3s 2ms/step - loss: -261849408.0000 - accuracy: 0.2085\n",
      "Epoch 10/50\n",
      "1204/1204 [==============================] - 2s 2ms/step - loss: -344584000.0000 - accuracy: 0.2085\n",
      "Epoch 11/50\n",
      "1204/1204 [==============================] - 2s 2ms/step - loss: -441745984.0000 - accuracy: 0.2085\n",
      "Epoch 12/50\n",
      "1204/1204 [==============================] - 3s 2ms/step - loss: -554416896.0000 - accuracy: 0.2085\n",
      "Epoch 13/50\n",
      "1204/1204 [==============================] - 2s 2ms/step - loss: -683922496.0000 - accuracy: 0.2085\n",
      "Epoch 14/50\n",
      "1204/1204 [==============================] - 2s 2ms/step - loss: -830698304.0000 - accuracy: 0.2085\n",
      "Epoch 15/50\n",
      "1204/1204 [==============================] - 2s 2ms/step - loss: -995956672.0000 - accuracy: 0.2085\n",
      "Epoch 16/50\n",
      "1204/1204 [==============================] - 3s 2ms/step - loss: -1180587008.0000 - accuracy: 0.2085\n",
      "Epoch 17/50\n",
      "1204/1204 [==============================] - 3s 2ms/step - loss: -1385844096.0000 - accuracy: 0.2085\n",
      "Epoch 18/50\n",
      "1204/1204 [==============================] - 2s 2ms/step - loss: -1612742016.0000 - accuracy: 0.2085\n",
      "Epoch 19/50\n",
      "1204/1204 [==============================] - 3s 2ms/step - loss: -1861955584.0000 - accuracy: 0.2085\n",
      "Epoch 20/50\n",
      "1204/1204 [==============================] - 2s 2ms/step - loss: -2134078464.0000 - accuracy: 0.2085\n",
      "Epoch 21/50\n",
      "1204/1204 [==============================] - 2s 2ms/step - loss: -2430670336.0000 - accuracy: 0.2085\n",
      "Epoch 22/50\n",
      "1204/1204 [==============================] - 2s 2ms/step - loss: -2753407744.0000 - accuracy: 0.2085\n",
      "Epoch 23/50\n",
      "1204/1204 [==============================] - 2s 2ms/step - loss: -3101968896.0000 - accuracy: 0.2085\n",
      "Epoch 24/50\n",
      "1204/1204 [==============================] - 2s 2ms/step - loss: -3477870848.0000 - accuracy: 0.2085\n",
      "Epoch 25/50\n",
      "1204/1204 [==============================] - 2s 2ms/step - loss: -3882562816.0000 - accuracy: 0.2085\n",
      "Epoch 26/50\n",
      "1204/1204 [==============================] - 2s 2ms/step - loss: -4316636672.0000 - accuracy: 0.2085\n",
      "Epoch 27/50\n",
      "1204/1204 [==============================] - 3s 2ms/step - loss: -4779884544.0000 - accuracy: 0.2085\n",
      "Epoch 28/50\n",
      "1204/1204 [==============================] - 2s 2ms/step - loss: -5274394112.0000 - accuracy: 0.2085\n",
      "Epoch 29/50\n",
      "1204/1204 [==============================] - 2s 2ms/step - loss: -5801784832.0000 - accuracy: 0.2085\n",
      "Epoch 30/50\n",
      "1204/1204 [==============================] - ETA: 0s - loss: -6360381440.0000 - accuracy: 0.20 - 2s 2ms/step - loss: -6361112064.0000 - accuracy: 0.2085\n",
      "Epoch 31/50\n",
      "1204/1204 [==============================] - 2s 2ms/step - loss: -6955142656.0000 - accuracy: 0.2085\n",
      "Epoch 32/50\n",
      "1204/1204 [==============================] - 2s 2ms/step - loss: -7584737792.0000 - accuracy: 0.2085\n",
      "Epoch 33/50\n",
      "1204/1204 [==============================] - 2s 2ms/step - loss: -8248674816.0000 - accuracy: 0.2085\n",
      "Epoch 34/50\n",
      "1204/1204 [==============================] - 2s 2ms/step - loss: -8950193152.0000 - accuracy: 0.2085\n",
      "Epoch 35/50\n",
      "1204/1204 [==============================] - 2s 2ms/step - loss: -9691103232.0000 - accuracy: 0.2085\n",
      "Epoch 36/50\n",
      "1204/1204 [==============================] - 2s 2ms/step - loss: -10469998592.0000 - accuracy: 0.2085\n",
      "Epoch 37/50\n",
      "1204/1204 [==============================] - 2s 2ms/step - loss: -11287118848.0000 - accuracy: 0.2085\n",
      "Epoch 38/50\n",
      "1204/1204 [==============================] - 2s 2ms/step - loss: -12144734208.0000 - accuracy: 0.2085A: 0s - loss: -12043350016.0000 - accura\n",
      "Epoch 39/50\n",
      "1204/1204 [==============================] - 2s 2ms/step - loss: -13044787200.0000 - accuracy: 0.2085\n",
      "Epoch 40/50\n",
      "1204/1204 [==============================] - 3s 2ms/step - loss: -13987959808.0000 - accuracy: 0.2085\n",
      "Epoch 41/50\n",
      "1204/1204 [==============================] - 3s 2ms/step - loss: -14974373888.0000 - accuracy: 0.2085\n",
      "Epoch 42/50\n",
      "1204/1204 [==============================] - 2s 2ms/step - loss: -16005433344.0000 - accuracy: 0.2085\n",
      "Epoch 43/50\n",
      "1204/1204 [==============================] - 2s 2ms/step - loss: -17082951680.0000 - accuracy: 0.2085\n",
      "Epoch 44/50\n",
      "1204/1204 [==============================] - 2s 2ms/step - loss: -18204872704.0000 - accuracy: 0.2085\n",
      "Epoch 45/50\n",
      "1204/1204 [==============================] - 2s 2ms/step - loss: -19374413824.0000 - accuracy: 0.2085\n",
      "Epoch 46/50\n",
      "1204/1204 [==============================] - 2s 2ms/step - loss: -20592506880.0000 - accuracy: 0.2085\n",
      "Epoch 47/50\n",
      "1204/1204 [==============================] - 2s 2ms/step - loss: -21859020800.0000 - accuracy: 0.2085\n",
      "Epoch 48/50\n",
      "1204/1204 [==============================] - 2s 2ms/step - loss: -23176230912.0000 - accuracy: 0.2085\n",
      "Epoch 49/50\n",
      "1204/1204 [==============================] - 2s 2ms/step - loss: -24543027200.0000 - accuracy: 0.2085\n",
      "Epoch 50/50\n",
      "1204/1204 [==============================] - 2s 2ms/step - loss: -25962964992.0000 - accuracy: 0.2085\n"
     ]
    }
   ],
   "source": [
    "history = model.fit(x_train, y_train, epochs=50, batch_size=10)"
   ]
  },
  {
   "cell_type": "code",
   "execution_count": 17,
   "metadata": {
    "ExecuteTime": {
     "end_time": "2021-12-28T21:23:09.995198Z",
     "start_time": "2021-12-28T21:23:09.982256Z"
    }
   },
   "outputs": [
    {
     "data": {
      "text/plain": [
       "<keras.callbacks.History at 0x2833cea5e80>"
      ]
     },
     "execution_count": 17,
     "metadata": {},
     "output_type": "execute_result"
    }
   ],
   "source": [
    "history "
   ]
  },
  {
   "cell_type": "code",
   "execution_count": 18,
   "metadata": {
    "ExecuteTime": {
     "end_time": "2021-12-28T21:23:12.066573Z",
     "start_time": "2021-12-28T21:23:10.045703Z"
    }
   },
   "outputs": [
    {
     "name": "stdout",
     "output_type": "stream",
     "text": [
      "94/94 [==============================] - 2s 1ms/step - loss: -27029868544.0000 - accuracy: 0.1985\n",
      "accuracy: 19.85%\n"
     ]
    }
   ],
   "source": [
    "scores = model.evaluate(x_test , y_test)\n",
    "print(\"%s: %.2f%%\" % (model.metrics_names[1], scores[1]*100))"
   ]
  },
  {
   "cell_type": "code",
   "execution_count": 19,
   "metadata": {
    "ExecuteTime": {
     "end_time": "2021-12-28T21:23:12.128409Z",
     "start_time": "2021-12-28T21:23:12.115444Z"
    }
   },
   "outputs": [
    {
     "data": {
      "text/plain": [
       "[-27029868544.0, 0.19847074151039124]"
      ]
     },
     "execution_count": 19,
     "metadata": {},
     "output_type": "execute_result"
    }
   ],
   "source": [
    "scores"
   ]
  },
  {
   "cell_type": "code",
   "execution_count": 20,
   "metadata": {
    "ExecuteTime": {
     "end_time": "2021-12-28T21:23:13.322926Z",
     "start_time": "2021-12-28T21:23:12.180088Z"
    }
   },
   "outputs": [
    {
     "name": "stdout",
     "output_type": "stream",
     "text": [
      "376/376 [==============================] - 1s 2ms/step - loss: -26691639296.0000 - accuracy: 0.2085\n",
      "accuracy: 20.85%\n"
     ]
    }
   ],
   "source": [
    "scores = model.evaluate(x_train , y_train)\n",
    "print(\"%s: %.2f%%\" % (model.metrics_names[1], scores[1]*100))"
   ]
  },
  {
   "cell_type": "code",
   "execution_count": 21,
   "metadata": {
    "ExecuteTime": {
     "end_time": "2021-12-28T21:23:13.386130Z",
     "start_time": "2021-12-28T21:23:13.376158Z"
    }
   },
   "outputs": [
    {
     "data": {
      "text/plain": [
       "[-26691639296.0, 0.20854459702968597]"
      ]
     },
     "execution_count": 21,
     "metadata": {},
     "output_type": "execute_result"
    }
   ],
   "source": [
    "scores"
   ]
  },
  {
   "cell_type": "code",
   "execution_count": 22,
   "metadata": {
    "ExecuteTime": {
     "end_time": "2021-12-28T21:23:14.152478Z",
     "start_time": "2021-12-28T21:23:13.439975Z"
    }
   },
   "outputs": [
    {
     "data": {
      "text/plain": [
       "dict_keys([])"
      ]
     },
     "execution_count": 22,
     "metadata": {},
     "output_type": "execute_result"
    }
   ],
   "source": [
    "model.history.history.keys()\n"
   ]
  },
  {
   "cell_type": "code",
   "execution_count": 24,
   "metadata": {
    "ExecuteTime": {
     "end_time": "2021-12-28T21:25:01.552296Z",
     "start_time": "2021-12-28T21:25:01.229794Z"
    }
   },
   "outputs": [
    {
     "ename": "KeyError",
     "evalue": "'val_accuracy'",
     "output_type": "error",
     "traceback": [
      "\u001b[1;31m---------------------------------------------------------------------------\u001b[0m",
      "\u001b[1;31mKeyError\u001b[0m                                  Traceback (most recent call last)",
      "\u001b[1;32m<ipython-input-24-a8fa2e0568b5>\u001b[0m in \u001b[0;36m<module>\u001b[1;34m\u001b[0m\n\u001b[0;32m      3\u001b[0m \u001b[0mget_ipython\u001b[0m\u001b[1;33m(\u001b[0m\u001b[1;33m)\u001b[0m\u001b[1;33m.\u001b[0m\u001b[0mrun_line_magic\u001b[0m\u001b[1;33m(\u001b[0m\u001b[1;34m'matplotlib'\u001b[0m\u001b[1;33m,\u001b[0m \u001b[1;34m'inline'\u001b[0m\u001b[1;33m)\u001b[0m\u001b[1;33m\u001b[0m\u001b[1;33m\u001b[0m\u001b[0m\n\u001b[0;32m      4\u001b[0m \u001b[0mplt\u001b[0m\u001b[1;33m.\u001b[0m\u001b[0mplot\u001b[0m\u001b[1;33m(\u001b[0m\u001b[0mhistory\u001b[0m\u001b[1;33m.\u001b[0m\u001b[0mhistory\u001b[0m\u001b[1;33m[\u001b[0m\u001b[1;34m'accuracy'\u001b[0m\u001b[1;33m]\u001b[0m\u001b[1;33m)\u001b[0m\u001b[1;33m\u001b[0m\u001b[1;33m\u001b[0m\u001b[0m\n\u001b[1;32m----> 5\u001b[1;33m \u001b[0mplt\u001b[0m\u001b[1;33m.\u001b[0m\u001b[0mplot\u001b[0m\u001b[1;33m(\u001b[0m\u001b[0mhistory\u001b[0m\u001b[1;33m.\u001b[0m\u001b[0mhistory\u001b[0m\u001b[1;33m[\u001b[0m\u001b[1;34m'val_accuracy'\u001b[0m\u001b[1;33m]\u001b[0m\u001b[1;33m)\u001b[0m\u001b[1;33m\u001b[0m\u001b[1;33m\u001b[0m\u001b[0m\n\u001b[0m\u001b[0;32m      6\u001b[0m \u001b[0mplt\u001b[0m\u001b[1;33m.\u001b[0m\u001b[0mtitle\u001b[0m\u001b[1;33m(\u001b[0m\u001b[1;34m'model accuracy'\u001b[0m\u001b[1;33m)\u001b[0m\u001b[1;33m\u001b[0m\u001b[1;33m\u001b[0m\u001b[0m\n\u001b[0;32m      7\u001b[0m \u001b[0mplt\u001b[0m\u001b[1;33m.\u001b[0m\u001b[0mylabel\u001b[0m\u001b[1;33m(\u001b[0m\u001b[1;34m'accuracy'\u001b[0m\u001b[1;33m)\u001b[0m\u001b[1;33m\u001b[0m\u001b[1;33m\u001b[0m\u001b[0m\n",
      "\u001b[1;31mKeyError\u001b[0m: 'val_accuracy'"
     ]
    },
    {
     "data": {
      "image/png": "[encoded data removed]",
      "text/plain": [
       "<Figure size 432x288 with 1 Axes>"
      ]
     },
     "metadata": {
      "needs_background": "light"
     },
     "output_type": "display_data"
    }
   ],
   "source": [
    "# summarize history for accuracy\n",
    "import matplotlib.pyplot as plt\n",
    "%matplotlib inline\n",
    "plt.plot(history.history['accuracy'])\n",
    "plt.plot(history.history['val_accuracy'])\n",
    "plt.title('model accuracy')\n",
    "plt.ylabel('accuracy')\n",
    "plt.xlabel('epoch')\n",
    "plt.legend(['train', 'test'], loc='upper left')\n",
    "plt.show()\n",
    "# summarize history for loss\n",
    "plt.plot(history.history['loss'])\n",
    "plt.plot(history.history['val_loss'])\n",
    "plt.title('model loss')\n",
    "plt.ylabel('loss')\n",
    "plt.xlabel('epoch')\n",
    "plt.legend(['train', 'test'], loc='upper left')\n",
    "plt.show()"
   ]
  },
  {
   "cell_type": "code",
   "execution_count": null,
   "metadata": {},
   "outputs": [],
   "source": []
  }
 ],
 "metadata": {
  "kernelspec": {
   "display_name": "Python 3",
   "language": "python",
   "name": "python3"
  },
  "language_info": {
   "codemirror_mode": {
    "name": "ipython",
    "version": 3
   },
   "file_extension": ".py",
   "mimetype": "text/x-python",
   "name": "python",
   "nbconvert_exporter": "python",
   "pygments_lexer": "ipython3",
   "version": "3.8.5"
  },
  "toc": {
   "base_numbering": 1,
   "nav_menu": {},
   "number_sections": true,
   "sideBar": true,
   "skip_h1_title": false,
   "title_cell": "Table of Contents",
   "title_sidebar": "Contents",
   "toc_cell": false,
   "toc_position": {},
   "toc_section_display": true,
   "toc_window_display": false
  },
  "varInspector": {
   "cols": {
    "lenName": 16,
    "lenType": 16,
    "lenVar": 40
   },
   "kernels_config": {
    "python": {
     "delete_cmd_postfix": "",
     "delete_cmd_prefix": "del ",
     "library": "var_list.py",
     "varRefreshCmd": "print(var_dic_list())"
    },
    "r": {
     "delete_cmd_postfix": ") ",
     "delete_cmd_prefix": "rm(",
     "library": "var_list.r",
     "varRefreshCmd": "cat(var_dic_list()) "
    }
   },
   "types_to_exclude": [
    "module",
    "function",
    "builtin_function_or_method",
    "instance",
    "_Feature"
   ],
   "window_display": false
  }
 },
 "nbformat": 4,
 "nbformat_minor": 5
}
